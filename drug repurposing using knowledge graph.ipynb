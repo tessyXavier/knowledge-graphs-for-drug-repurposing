{
 "cells": [
  {
   "cell_type": "markdown",
   "id": "816a0493",
   "metadata": {},
   "source": [
    "## Working with DRKG in Deep Graph Library (DGL)\n",
    "\n",
    "Building a heterograph from DRKG in dgl"
   ]
  },
  {
   "cell_type": "code",
   "execution_count": 1,
   "id": "493223af",
   "metadata": {},
   "outputs": [
    {
     "name": "stdout",
     "output_type": "stream",
     "text": [
      "Download finished. Unzipping the file...\n"
     ]
    }
   ],
   "source": [
    "import pandas as pd\n",
    "import numpy as np\n",
    "import dgl\n",
    "\n",
    "import sys\n",
    "sys.path.insert(1, 'C:/Users/tessy/Desktop/Notes/SEM III/RESEARCH PAPER/report/utils')\n",
    "from utils import download_and_extract\n",
    "download_and_extract()\n",
    "drkg_file = 'C:/Users/tessy/Desktop/Notes/SEM III/RESEARCH PAPER/report/data/drkg.tsv'\n",
    "df = pd.read_csv(drkg_file, sep =\"\\t\", header=None)\n",
    "triplets = df.values.tolist()"
   ]
  },
  {
   "cell_type": "markdown",
   "id": "aa331375",
   "metadata": {},
   "source": [
    "Assign an ID to each node (entity): create a dictionary of node-types: each dictionary further consists of a dictionary mapping node to an ID."
   ]
  },
  {
   "cell_type": "code",
   "execution_count": 2,
   "id": "3db4710d",
   "metadata": {},
   "outputs": [],
   "source": [
    "entity_dictionary = {}\n",
    "def insert_entry(entry, ent_type, dic):\n",
    "    if ent_type not in dic:\n",
    "        dic[ent_type] = {}\n",
    "    ent_n_id = len(dic[ent_type])\n",
    "    if entry not in dic[ent_type]:\n",
    "         dic[ent_type][entry] = ent_n_id\n",
    "    return dic\n",
    "\n",
    "for triple in triplets:\n",
    "    src = triple[0]\n",
    "    split_src = src.split('::')\n",
    "    src_type = split_src[0]\n",
    "    dest = triple[2]\n",
    "    split_dest = dest.split('::')\n",
    "    dest_type = split_dest[0]\n",
    "    insert_entry(src,src_type,entity_dictionary)\n",
    "    insert_entry(dest,dest_type,entity_dictionary)"
   ]
  },
  {
   "cell_type": "markdown",
   "id": "f7b4626c",
   "metadata": {},
   "source": [
    "Create a dictionary of relations: the key is the relation and the value is the list of (source node ID, destimation node ID) tuples."
   ]
  },
  {
   "cell_type": "code",
   "execution_count": 3,
   "id": "38dc0d5a",
   "metadata": {},
   "outputs": [],
   "source": [
    "edge_dictionary={}\n",
    "for triple in triplets:\n",
    "    src = triple[0]\n",
    "    split_src = src.split('::')\n",
    "    src_type = split_src[0]\n",
    "    dest = triple[2]\n",
    "    split_dest = dest.split('::')\n",
    "    dest_type = split_dest[0]\n",
    "    \n",
    "    src_int_id = entity_dictionary[src_type][src]\n",
    "    dest_int_id = entity_dictionary[dest_type][dest]\n",
    "    \n",
    "    pair = (src_int_id,dest_int_id)\n",
    "    etype = (src_type,triple[1],dest_type)\n",
    "    if etype in edge_dictionary:\n",
    "        edge_dictionary[etype] += [pair]\n",
    "    else:\n",
    "        edge_dictionary[etype] = [pair]"
   ]
  },
  {
   "cell_type": "markdown",
   "id": "cece1bcc",
   "metadata": {},
   "source": [
    "## Create a DGL heterograph using the dictionary of relations"
   ]
  },
  {
   "cell_type": "code",
   "execution_count": 4,
   "id": "20fe0990",
   "metadata": {},
   "outputs": [],
   "source": [
    "graph = dgl.heterograph(edge_dictionary);"
   ]
  },
  {
   "cell_type": "markdown",
   "id": "e6e74a7d",
   "metadata": {},
   "source": [
    "## Print the statistics of the created graph"
   ]
  },
  {
   "cell_type": "markdown",
   "id": "d35cb2ac",
   "metadata": {},
   "source": [
    "### Number of nodes for each node-type"
   ]
  },
  {
   "cell_type": "code",
   "execution_count": 5,
   "id": "07b54387",
   "metadata": {},
   "outputs": [
    {
     "name": "stdout",
     "output_type": "stream",
     "text": [
      "Anatomy \t 400\n",
      "Atc \t 4048\n",
      "Biological Process \t 11381\n",
      "Cellular Component \t 1391\n",
      "Compound \t 24313\n",
      "Disease \t 5103\n",
      "Gene \t 39220\n",
      "Molecular Function \t 2884\n",
      "Pathway \t 1822\n",
      "Pharmacologic Class \t 345\n",
      "Side Effect \t 5701\n",
      "Symptom \t 415\n",
      "Tax \t 215\n",
      "Graph contains 97238 nodes from 13 node-types.\n"
     ]
    }
   ],
   "source": [
    "total_nodes = 0;\n",
    "for ntype in graph.ntypes:\n",
    "    print(ntype, '\\t', graph.number_of_nodes(ntype));\n",
    "    total_nodes += graph.number_of_nodes(ntype);\n",
    "print(\"Graph contains {} nodes from {} node-types.\".format(total_nodes, len(graph.ntypes)))"
   ]
  },
  {
   "cell_type": "markdown",
   "id": "88973324",
   "metadata": {},
   "source": [
    "### Number of edges for each relation (edge-type) "
   ]
  },
  {
   "cell_type": "code",
   "execution_count": 6,
   "id": "186e0c04",
   "metadata": {},
   "outputs": [
    {
     "name": "stdout",
     "output_type": "stream",
     "text": [
      "Hetionet::AdG::Anatomy:Gene \t 102240\n",
      "Hetionet::AeG::Anatomy:Gene \t 526407\n",
      "Hetionet::AuG::Anatomy:Gene \t 97848\n",
      "DRUGBANK::carrier::Compound:Gene \t 720\n",
      "DRUGBANK::ddi-interactor-in::Compound:Compound \t 1379271\n",
      "DRUGBANK::enzyme::Compound:Gene \t 4923\n",
      "DRUGBANK::target::Compound:Gene \t 19158\n",
      "DRUGBANK::treats::Compound:Disease \t 4968\n",
      "DRUGBANK::x-atc::Compound:Atc \t 15750\n",
      "GNBR::A+::Compound:Gene \t 1568\n",
      "GNBR::A-::Compound:Gene \t 1108\n",
      "GNBR::B::Compound:Gene \t 7170\n",
      "GNBR::C::Compound:Disease \t 1739\n",
      "GNBR::E+::Compound:Gene \t 1970\n",
      "GNBR::E-::Compound:Gene \t 2918\n",
      "GNBR::E::Compound:Gene \t 32743\n",
      "GNBR::J::Compound:Disease \t 1020\n",
      "GNBR::K::Compound:Gene \t 12411\n",
      "GNBR::Mp::Compound:Disease \t 495\n",
      "GNBR::N::Compound:Gene \t 12521\n",
      "GNBR::O::Compound:Gene \t 5573\n",
      "GNBR::Pa::Compound:Disease \t 2619\n",
      "GNBR::Pr::Compound:Disease \t 966\n",
      "GNBR::Sa::Compound:Disease \t 16923\n",
      "GNBR::T::Compound:Disease \t 54020\n",
      "GNBR::Z::Compound:Gene \t 2821\n",
      "Hetionet::CbG::Compound:Gene \t 11571\n",
      "Hetionet::CcSE::Compound:Side Effect \t 138944\n",
      "Hetionet::CdG::Compound:Gene \t 21102\n",
      "Hetionet::CpD::Compound:Disease \t 390\n",
      "Hetionet::CrC::Compound:Compound \t 6486\n",
      "Hetionet::CtD::Compound:Disease \t 755\n",
      "Hetionet::CuG::Compound:Gene \t 18756\n",
      "INTACT::ASSOCIATION::Compound:Gene \t 1447\n",
      "INTACT::DIRECT INTERACTION::Compound:Gene \t 155\n",
      "INTACT::PHYSICAL ASSOCIATION::Compound:Gene \t 203\n",
      "bioarx::DrugHumGen:Compound:Gene \t 24501\n",
      "bioarx::DrugVirGen:Compound:Gene \t 1165\n",
      "Hetionet::DaG::Disease:Gene \t 12623\n",
      "Hetionet::DdG::Disease:Gene \t 7623\n",
      "Hetionet::DlA::Disease:Anatomy \t 3602\n",
      "Hetionet::DpS::Disease:Symptom \t 3357\n",
      "Hetionet::DrD::Disease:Disease \t 543\n",
      "Hetionet::DuG::Disease:Gene \t 7731\n",
      "bioarx::Coronavirus_ass_host_gene::Disease:Gene \t 129\n",
      "bioarx::Covid2_acc_host_gene::Disease:Gene \t 332\n",
      "DGIDB::ACTIVATOR::Gene:Compound \t 316\n",
      "DGIDB::AGONIST::Gene:Compound \t 3012\n",
      "DGIDB::ALLOSTERIC MODULATOR::Gene:Compound \t 317\n",
      "DGIDB::ANTAGONIST::Gene:Compound \t 3006\n",
      "DGIDB::ANTIBODY::Gene:Compound \t 188\n",
      "DGIDB::BINDER::Gene:Compound \t 143\n",
      "DGIDB::BLOCKER::Gene:Compound \t 979\n",
      "DGIDB::CHANNEL BLOCKER::Gene:Compound \t 352\n",
      "DGIDB::INHIBITOR::Gene:Compound \t 5971\n",
      "DGIDB::MODULATOR::Gene:Compound \t 243\n",
      "DGIDB::OTHER::Gene:Compound \t 11070\n",
      "DGIDB::PARTIAL AGONIST::Gene:Compound \t 75\n",
      "DGIDB::POSITIVE ALLOSTERIC MODULATOR::Gene:Compound \t 618\n",
      "GNBR::B::Gene:Gene \t 8164\n",
      "GNBR::D::Gene:Disease \t 500\n",
      "GNBR::E+::Gene:Gene \t 10838\n",
      "GNBR::E::Gene:Gene \t 418\n",
      "GNBR::G::Gene:Disease \t 2055\n",
      "GNBR::H::Gene:Gene \t 2509\n",
      "GNBR::I::Gene:Gene \t 5434\n",
      "GNBR::J::Gene:Disease \t 30234\n",
      "GNBR::L::Gene:Disease \t 48384\n",
      "GNBR::Md::Gene:Disease \t 1279\n",
      "GNBR::Q::Gene:Gene \t 19372\n",
      "GNBR::Rg::Gene:Gene \t 11018\n",
      "GNBR::Te::Gene:Disease \t 2836\n",
      "GNBR::U::Gene:Disease \t 6432\n",
      "GNBR::Ud::Gene:Disease \t 407\n",
      "GNBR::V+::Gene:Gene \t 8689\n",
      "GNBR::W::Gene:Gene \t 280\n",
      "GNBR::X::Gene:Disease \t 1324\n",
      "GNBR::Y::Gene:Disease \t 1948\n",
      "GNBR::in_tax::Gene:Tax \t 14663\n",
      "Hetionet::GcG::Gene:Gene \t 61690\n",
      "Hetionet::GiG::Gene:Gene \t 147164\n",
      "Hetionet::GpBP::Gene:Biological Process \t 559504\n",
      "Hetionet::GpCC::Gene:Cellular Component \t 73566\n",
      "Hetionet::GpMF::Gene:Molecular Function \t 97222\n",
      "Hetionet::GpPW::Gene:Pathway \t 84372\n",
      "Hetionet::Gr>G::Gene:Gene \t 265672\n",
      "INTACT::ADP RIBOSYLATION REACTION::Gene:Gene \t 58\n",
      "INTACT::ASSOCIATION::Gene:Gene \t 112390\n",
      "INTACT::CLEAVAGE REACTION::Gene:Gene \t 93\n",
      "INTACT::COLOCALIZATION::Gene:Gene \t 3468\n",
      "INTACT::DEPHOSPHORYLATION REACTION::Gene:Gene \t 303\n",
      "INTACT::DIRECT INTERACTION::Gene:Gene \t 6950\n",
      "INTACT::PHOSPHORYLATION REACTION::Gene:Gene \t 1328\n",
      "INTACT::PHYSICAL ASSOCIATION::Gene:Gene \t 129318\n",
      "INTACT::PROTEIN CLEAVAGE::Gene:Gene \t 67\n",
      "INTACT::UBIQUITINATION REACTION::Gene:Gene \t 371\n",
      "STRING::ACTIVATION::Gene:Gene \t 81355\n",
      "STRING::BINDING::Gene:Gene \t 315875\n",
      "STRING::CATALYSIS::Gene:Gene \t 343533\n",
      "STRING::EXPRESSION::Gene:Gene \t 757\n",
      "STRING::INHIBITION::Gene:Gene \t 28959\n",
      "STRING::OTHER::Gene:Gene \t 310690\n",
      "STRING::PTMOD::Gene:Gene \t 15113\n",
      "STRING::REACTION::Gene:Gene \t 400426\n",
      "bioarx::HumGenHumGen:Gene:Gene \t 58094\n",
      "bioarx::VirGenHumGen:Gene:Gene \t 535\n",
      "Hetionet::PCiC::Pharmacologic Class:Compound \t 1029\n",
      "Graph contains 5874261 edges from 107 edge-types.\n"
     ]
    }
   ],
   "source": [
    "total_edges = 0;\n",
    "for etype in graph.etypes:\n",
    "    print(etype, '\\t', graph.number_of_edges(etype))\n",
    "    total_edges += graph.number_of_edges(etype);\n",
    "print(\"Graph contains {} edges from {} edge-types.\".format(total_edges, len(graph.etypes)))"
   ]
  },
  {
   "cell_type": "markdown",
   "id": "97d8b85d",
   "metadata": {},
   "source": [
    "Just printing the graph (\"print(graph)\") will also print the graph summary"
   ]
  },
  {
   "cell_type": "code",
   "execution_count": 7,
   "id": "fdcecc08",
   "metadata": {},
   "outputs": [
    {
     "name": "stdout",
     "output_type": "stream",
     "text": [
      "Graph(num_nodes={'Anatomy': 400, 'Atc': 4048, 'Biological Process': 11381, 'Cellular Component': 1391, 'Compound': 24313, 'Disease': 5103, 'Gene': 39220, 'Molecular Function': 2884, 'Pathway': 1822, 'Pharmacologic Class': 345, 'Side Effect': 5701, 'Symptom': 415, 'Tax': 215},\n",
      "      num_edges={('Anatomy', 'Hetionet::AdG::Anatomy:Gene', 'Gene'): 102240, ('Anatomy', 'Hetionet::AeG::Anatomy:Gene', 'Gene'): 526407, ('Anatomy', 'Hetionet::AuG::Anatomy:Gene', 'Gene'): 97848, ('Compound', 'DRUGBANK::carrier::Compound:Gene', 'Gene'): 720, ('Compound', 'DRUGBANK::ddi-interactor-in::Compound:Compound', 'Compound'): 1379271, ('Compound', 'DRUGBANK::enzyme::Compound:Gene', 'Gene'): 4923, ('Compound', 'DRUGBANK::target::Compound:Gene', 'Gene'): 19158, ('Compound', 'DRUGBANK::treats::Compound:Disease', 'Disease'): 4968, ('Compound', 'DRUGBANK::x-atc::Compound:Atc', 'Atc'): 15750, ('Compound', 'GNBR::A+::Compound:Gene', 'Gene'): 1568, ('Compound', 'GNBR::A-::Compound:Gene', 'Gene'): 1108, ('Compound', 'GNBR::B::Compound:Gene', 'Gene'): 7170, ('Compound', 'GNBR::C::Compound:Disease', 'Disease'): 1739, ('Compound', 'GNBR::E+::Compound:Gene', 'Gene'): 1970, ('Compound', 'GNBR::E-::Compound:Gene', 'Gene'): 2918, ('Compound', 'GNBR::E::Compound:Gene', 'Gene'): 32743, ('Compound', 'GNBR::J::Compound:Disease', 'Disease'): 1020, ('Compound', 'GNBR::K::Compound:Gene', 'Gene'): 12411, ('Compound', 'GNBR::Mp::Compound:Disease', 'Disease'): 495, ('Compound', 'GNBR::N::Compound:Gene', 'Gene'): 12521, ('Compound', 'GNBR::O::Compound:Gene', 'Gene'): 5573, ('Compound', 'GNBR::Pa::Compound:Disease', 'Disease'): 2619, ('Compound', 'GNBR::Pr::Compound:Disease', 'Disease'): 966, ('Compound', 'GNBR::Sa::Compound:Disease', 'Disease'): 16923, ('Compound', 'GNBR::T::Compound:Disease', 'Disease'): 54020, ('Compound', 'GNBR::Z::Compound:Gene', 'Gene'): 2821, ('Compound', 'Hetionet::CbG::Compound:Gene', 'Gene'): 11571, ('Compound', 'Hetionet::CcSE::Compound:Side Effect', 'Side Effect'): 138944, ('Compound', 'Hetionet::CdG::Compound:Gene', 'Gene'): 21102, ('Compound', 'Hetionet::CpD::Compound:Disease', 'Disease'): 390, ('Compound', 'Hetionet::CrC::Compound:Compound', 'Compound'): 6486, ('Compound', 'Hetionet::CtD::Compound:Disease', 'Disease'): 755, ('Compound', 'Hetionet::CuG::Compound:Gene', 'Gene'): 18756, ('Compound', 'INTACT::ASSOCIATION::Compound:Gene', 'Gene'): 1447, ('Compound', 'INTACT::DIRECT INTERACTION::Compound:Gene', 'Gene'): 155, ('Compound', 'INTACT::PHYSICAL ASSOCIATION::Compound:Gene', 'Gene'): 203, ('Compound', 'bioarx::DrugHumGen:Compound:Gene', 'Gene'): 24501, ('Compound', 'bioarx::DrugVirGen:Compound:Gene', 'Gene'): 1165, ('Disease', 'Hetionet::DaG::Disease:Gene', 'Gene'): 12623, ('Disease', 'Hetionet::DdG::Disease:Gene', 'Gene'): 7623, ('Disease', 'Hetionet::DlA::Disease:Anatomy', 'Anatomy'): 3602, ('Disease', 'Hetionet::DpS::Disease:Symptom', 'Symptom'): 3357, ('Disease', 'Hetionet::DrD::Disease:Disease', 'Disease'): 543, ('Disease', 'Hetionet::DuG::Disease:Gene', 'Gene'): 7731, ('Disease', 'bioarx::Coronavirus_ass_host_gene::Disease:Gene', 'Gene'): 129, ('Disease', 'bioarx::Covid2_acc_host_gene::Disease:Gene', 'Gene'): 332, ('Gene', 'DGIDB::ACTIVATOR::Gene:Compound', 'Compound'): 316, ('Gene', 'DGIDB::AGONIST::Gene:Compound', 'Compound'): 3012, ('Gene', 'DGIDB::ALLOSTERIC MODULATOR::Gene:Compound', 'Compound'): 317, ('Gene', 'DGIDB::ANTAGONIST::Gene:Compound', 'Compound'): 3006, ('Gene', 'DGIDB::ANTIBODY::Gene:Compound', 'Compound'): 188, ('Gene', 'DGIDB::BINDER::Gene:Compound', 'Compound'): 143, ('Gene', 'DGIDB::BLOCKER::Gene:Compound', 'Compound'): 979, ('Gene', 'DGIDB::CHANNEL BLOCKER::Gene:Compound', 'Compound'): 352, ('Gene', 'DGIDB::INHIBITOR::Gene:Compound', 'Compound'): 5971, ('Gene', 'DGIDB::MODULATOR::Gene:Compound', 'Compound'): 243, ('Gene', 'DGIDB::OTHER::Gene:Compound', 'Compound'): 11070, ('Gene', 'DGIDB::PARTIAL AGONIST::Gene:Compound', 'Compound'): 75, ('Gene', 'DGIDB::POSITIVE ALLOSTERIC MODULATOR::Gene:Compound', 'Compound'): 618, ('Gene', 'GNBR::B::Gene:Gene', 'Gene'): 8164, ('Gene', 'GNBR::D::Gene:Disease', 'Disease'): 500, ('Gene', 'GNBR::E+::Gene:Gene', 'Gene'): 10838, ('Gene', 'GNBR::E::Gene:Gene', 'Gene'): 418, ('Gene', 'GNBR::G::Gene:Disease', 'Disease'): 2055, ('Gene', 'GNBR::H::Gene:Gene', 'Gene'): 2509, ('Gene', 'GNBR::I::Gene:Gene', 'Gene'): 5434, ('Gene', 'GNBR::J::Gene:Disease', 'Disease'): 30234, ('Gene', 'GNBR::L::Gene:Disease', 'Disease'): 48384, ('Gene', 'GNBR::Md::Gene:Disease', 'Disease'): 1279, ('Gene', 'GNBR::Q::Gene:Gene', 'Gene'): 19372, ('Gene', 'GNBR::Rg::Gene:Gene', 'Gene'): 11018, ('Gene', 'GNBR::Te::Gene:Disease', 'Disease'): 2836, ('Gene', 'GNBR::U::Gene:Disease', 'Disease'): 6432, ('Gene', 'GNBR::Ud::Gene:Disease', 'Disease'): 407, ('Gene', 'GNBR::V+::Gene:Gene', 'Gene'): 8689, ('Gene', 'GNBR::W::Gene:Gene', 'Gene'): 280, ('Gene', 'GNBR::X::Gene:Disease', 'Disease'): 1324, ('Gene', 'GNBR::Y::Gene:Disease', 'Disease'): 1948, ('Gene', 'GNBR::in_tax::Gene:Tax', 'Tax'): 14663, ('Gene', 'Hetionet::GcG::Gene:Gene', 'Gene'): 61690, ('Gene', 'Hetionet::GiG::Gene:Gene', 'Gene'): 147164, ('Gene', 'Hetionet::GpBP::Gene:Biological Process', 'Biological Process'): 559504, ('Gene', 'Hetionet::GpCC::Gene:Cellular Component', 'Cellular Component'): 73566, ('Gene', 'Hetionet::GpMF::Gene:Molecular Function', 'Molecular Function'): 97222, ('Gene', 'Hetionet::GpPW::Gene:Pathway', 'Pathway'): 84372, ('Gene', 'Hetionet::Gr>G::Gene:Gene', 'Gene'): 265672, ('Gene', 'INTACT::ADP RIBOSYLATION REACTION::Gene:Gene', 'Gene'): 58, ('Gene', 'INTACT::ASSOCIATION::Gene:Gene', 'Gene'): 112390, ('Gene', 'INTACT::CLEAVAGE REACTION::Gene:Gene', 'Gene'): 93, ('Gene', 'INTACT::COLOCALIZATION::Gene:Gene', 'Gene'): 3468, ('Gene', 'INTACT::DEPHOSPHORYLATION REACTION::Gene:Gene', 'Gene'): 303, ('Gene', 'INTACT::DIRECT INTERACTION::Gene:Gene', 'Gene'): 6950, ('Gene', 'INTACT::PHOSPHORYLATION REACTION::Gene:Gene', 'Gene'): 1328, ('Gene', 'INTACT::PHYSICAL ASSOCIATION::Gene:Gene', 'Gene'): 129318, ('Gene', 'INTACT::PROTEIN CLEAVAGE::Gene:Gene', 'Gene'): 67, ('Gene', 'INTACT::UBIQUITINATION REACTION::Gene:Gene', 'Gene'): 371, ('Gene', 'STRING::ACTIVATION::Gene:Gene', 'Gene'): 81355, ('Gene', 'STRING::BINDING::Gene:Gene', 'Gene'): 315875, ('Gene', 'STRING::CATALYSIS::Gene:Gene', 'Gene'): 343533, ('Gene', 'STRING::EXPRESSION::Gene:Gene', 'Gene'): 757, ('Gene', 'STRING::INHIBITION::Gene:Gene', 'Gene'): 28959, ('Gene', 'STRING::OTHER::Gene:Gene', 'Gene'): 310690, ('Gene', 'STRING::PTMOD::Gene:Gene', 'Gene'): 15113, ('Gene', 'STRING::REACTION::Gene:Gene', 'Gene'): 400426, ('Gene', 'bioarx::HumGenHumGen:Gene:Gene', 'Gene'): 58094, ('Gene', 'bioarx::VirGenHumGen:Gene:Gene', 'Gene'): 535, ('Pharmacologic Class', 'Hetionet::PCiC::Pharmacologic Class:Compound', 'Compound'): 1029},\n",
      "      metagraph=[('Anatomy', 'Gene', 'Hetionet::AdG::Anatomy:Gene'), ('Anatomy', 'Gene', 'Hetionet::AeG::Anatomy:Gene'), ('Anatomy', 'Gene', 'Hetionet::AuG::Anatomy:Gene'), ('Gene', 'Compound', 'DGIDB::ACTIVATOR::Gene:Compound'), ('Gene', 'Compound', 'DGIDB::AGONIST::Gene:Compound'), ('Gene', 'Compound', 'DGIDB::ALLOSTERIC MODULATOR::Gene:Compound'), ('Gene', 'Compound', 'DGIDB::ANTAGONIST::Gene:Compound'), ('Gene', 'Compound', 'DGIDB::ANTIBODY::Gene:Compound'), ('Gene', 'Compound', 'DGIDB::BINDER::Gene:Compound'), ('Gene', 'Compound', 'DGIDB::BLOCKER::Gene:Compound'), ('Gene', 'Compound', 'DGIDB::CHANNEL BLOCKER::Gene:Compound'), ('Gene', 'Compound', 'DGIDB::INHIBITOR::Gene:Compound'), ('Gene', 'Compound', 'DGIDB::MODULATOR::Gene:Compound'), ('Gene', 'Compound', 'DGIDB::OTHER::Gene:Compound'), ('Gene', 'Compound', 'DGIDB::PARTIAL AGONIST::Gene:Compound'), ('Gene', 'Compound', 'DGIDB::POSITIVE ALLOSTERIC MODULATOR::Gene:Compound'), ('Gene', 'Gene', 'GNBR::B::Gene:Gene'), ('Gene', 'Gene', 'GNBR::E+::Gene:Gene'), ('Gene', 'Gene', 'GNBR::E::Gene:Gene'), ('Gene', 'Gene', 'GNBR::H::Gene:Gene'), ('Gene', 'Gene', 'GNBR::I::Gene:Gene'), ('Gene', 'Gene', 'GNBR::Q::Gene:Gene'), ('Gene', 'Gene', 'GNBR::Rg::Gene:Gene'), ('Gene', 'Gene', 'GNBR::V+::Gene:Gene'), ('Gene', 'Gene', 'GNBR::W::Gene:Gene'), ('Gene', 'Gene', 'Hetionet::GcG::Gene:Gene'), ('Gene', 'Gene', 'Hetionet::GiG::Gene:Gene'), ('Gene', 'Gene', 'Hetionet::Gr>G::Gene:Gene'), ('Gene', 'Gene', 'INTACT::ADP RIBOSYLATION REACTION::Gene:Gene'), ('Gene', 'Gene', 'INTACT::ASSOCIATION::Gene:Gene'), ('Gene', 'Gene', 'INTACT::CLEAVAGE REACTION::Gene:Gene'), ('Gene', 'Gene', 'INTACT::COLOCALIZATION::Gene:Gene'), ('Gene', 'Gene', 'INTACT::DEPHOSPHORYLATION REACTION::Gene:Gene'), ('Gene', 'Gene', 'INTACT::DIRECT INTERACTION::Gene:Gene'), ('Gene', 'Gene', 'INTACT::PHOSPHORYLATION REACTION::Gene:Gene'), ('Gene', 'Gene', 'INTACT::PHYSICAL ASSOCIATION::Gene:Gene'), ('Gene', 'Gene', 'INTACT::PROTEIN CLEAVAGE::Gene:Gene'), ('Gene', 'Gene', 'INTACT::UBIQUITINATION REACTION::Gene:Gene'), ('Gene', 'Gene', 'STRING::ACTIVATION::Gene:Gene'), ('Gene', 'Gene', 'STRING::BINDING::Gene:Gene'), ('Gene', 'Gene', 'STRING::CATALYSIS::Gene:Gene'), ('Gene', 'Gene', 'STRING::EXPRESSION::Gene:Gene'), ('Gene', 'Gene', 'STRING::INHIBITION::Gene:Gene'), ('Gene', 'Gene', 'STRING::OTHER::Gene:Gene'), ('Gene', 'Gene', 'STRING::PTMOD::Gene:Gene'), ('Gene', 'Gene', 'STRING::REACTION::Gene:Gene'), ('Gene', 'Gene', 'bioarx::HumGenHumGen:Gene:Gene'), ('Gene', 'Gene', 'bioarx::VirGenHumGen:Gene:Gene'), ('Gene', 'Disease', 'GNBR::D::Gene:Disease'), ('Gene', 'Disease', 'GNBR::G::Gene:Disease'), ('Gene', 'Disease', 'GNBR::J::Gene:Disease'), ('Gene', 'Disease', 'GNBR::L::Gene:Disease'), ('Gene', 'Disease', 'GNBR::Md::Gene:Disease'), ('Gene', 'Disease', 'GNBR::Te::Gene:Disease'), ('Gene', 'Disease', 'GNBR::U::Gene:Disease'), ('Gene', 'Disease', 'GNBR::Ud::Gene:Disease'), ('Gene', 'Disease', 'GNBR::X::Gene:Disease'), ('Gene', 'Disease', 'GNBR::Y::Gene:Disease'), ('Gene', 'Tax', 'GNBR::in_tax::Gene:Tax'), ('Gene', 'Biological Process', 'Hetionet::GpBP::Gene:Biological Process'), ('Gene', 'Cellular Component', 'Hetionet::GpCC::Gene:Cellular Component'), ('Gene', 'Molecular Function', 'Hetionet::GpMF::Gene:Molecular Function'), ('Gene', 'Pathway', 'Hetionet::GpPW::Gene:Pathway'), ('Compound', 'Gene', 'DRUGBANK::carrier::Compound:Gene'), ('Compound', 'Gene', 'DRUGBANK::enzyme::Compound:Gene'), ('Compound', 'Gene', 'DRUGBANK::target::Compound:Gene'), ('Compound', 'Gene', 'GNBR::A+::Compound:Gene'), ('Compound', 'Gene', 'GNBR::A-::Compound:Gene'), ('Compound', 'Gene', 'GNBR::B::Compound:Gene'), ('Compound', 'Gene', 'GNBR::E+::Compound:Gene'), ('Compound', 'Gene', 'GNBR::E-::Compound:Gene'), ('Compound', 'Gene', 'GNBR::E::Compound:Gene'), ('Compound', 'Gene', 'GNBR::K::Compound:Gene'), ('Compound', 'Gene', 'GNBR::N::Compound:Gene'), ('Compound', 'Gene', 'GNBR::O::Compound:Gene'), ('Compound', 'Gene', 'GNBR::Z::Compound:Gene'), ('Compound', 'Gene', 'Hetionet::CbG::Compound:Gene'), ('Compound', 'Gene', 'Hetionet::CdG::Compound:Gene'), ('Compound', 'Gene', 'Hetionet::CuG::Compound:Gene'), ('Compound', 'Gene', 'INTACT::ASSOCIATION::Compound:Gene'), ('Compound', 'Gene', 'INTACT::DIRECT INTERACTION::Compound:Gene'), ('Compound', 'Gene', 'INTACT::PHYSICAL ASSOCIATION::Compound:Gene'), ('Compound', 'Gene', 'bioarx::DrugHumGen:Compound:Gene'), ('Compound', 'Gene', 'bioarx::DrugVirGen:Compound:Gene'), ('Compound', 'Compound', 'DRUGBANK::ddi-interactor-in::Compound:Compound'), ('Compound', 'Compound', 'Hetionet::CrC::Compound:Compound'), ('Compound', 'Disease', 'DRUGBANK::treats::Compound:Disease'), ('Compound', 'Disease', 'GNBR::C::Compound:Disease'), ('Compound', 'Disease', 'GNBR::J::Compound:Disease'), ('Compound', 'Disease', 'GNBR::Mp::Compound:Disease'), ('Compound', 'Disease', 'GNBR::Pa::Compound:Disease'), ('Compound', 'Disease', 'GNBR::Pr::Compound:Disease'), ('Compound', 'Disease', 'GNBR::Sa::Compound:Disease'), ('Compound', 'Disease', 'GNBR::T::Compound:Disease'), ('Compound', 'Disease', 'Hetionet::CpD::Compound:Disease'), ('Compound', 'Disease', 'Hetionet::CtD::Compound:Disease'), ('Compound', 'Atc', 'DRUGBANK::x-atc::Compound:Atc'), ('Compound', 'Side Effect', 'Hetionet::CcSE::Compound:Side Effect'), ('Disease', 'Gene', 'Hetionet::DaG::Disease:Gene'), ('Disease', 'Gene', 'Hetionet::DdG::Disease:Gene'), ('Disease', 'Gene', 'Hetionet::DuG::Disease:Gene'), ('Disease', 'Gene', 'bioarx::Coronavirus_ass_host_gene::Disease:Gene'), ('Disease', 'Gene', 'bioarx::Covid2_acc_host_gene::Disease:Gene'), ('Disease', 'Anatomy', 'Hetionet::DlA::Disease:Anatomy'), ('Disease', 'Symptom', 'Hetionet::DpS::Disease:Symptom'), ('Disease', 'Disease', 'Hetionet::DrD::Disease:Disease'), ('Pharmacologic Class', 'Compound', 'Hetionet::PCiC::Pharmacologic Class:Compound')])\n"
     ]
    }
   ],
   "source": [
    "print(graph)"
   ]
  },
  {
   "cell_type": "markdown",
   "id": "b53d1e01",
   "metadata": {},
   "source": [
    "# Plotting the graph"
   ]
  },
  {
   "cell_type": "code",
   "execution_count": 8,
   "id": "99a6ea26",
   "metadata": {},
   "outputs": [],
   "source": [
    "import dgl.data\n",
    "import matplotlib.pyplot as plt\n",
    "import networkx as nx\n",
    "\n",
    "import dgl\n",
    "import torch as th"
   ]
  },
  {
   "cell_type": "code",
   "execution_count": 9,
   "id": "1013a325",
   "metadata": {},
   "outputs": [
    {
     "data": {
      "text/plain": [
       "['Anatomy',\n",
       " 'Atc',\n",
       " 'Biological Process',\n",
       " 'Cellular Component',\n",
       " 'Compound',\n",
       " 'Disease',\n",
       " 'Gene',\n",
       " 'Molecular Function',\n",
       " 'Pathway',\n",
       " 'Pharmacologic Class',\n",
       " 'Side Effect',\n",
       " 'Symptom',\n",
       " 'Tax']"
      ]
     },
     "execution_count": 9,
     "metadata": {},
     "output_type": "execute_result"
    }
   ],
   "source": [
    "graph.ntypes"
   ]
  },
  {
   "cell_type": "code",
   "execution_count": 10,
   "id": "7b47e7f9",
   "metadata": {},
   "outputs": [
    {
     "data": {
      "text/plain": [
       "['Hetionet::AdG::Anatomy:Gene',\n",
       " 'Hetionet::AeG::Anatomy:Gene',\n",
       " 'Hetionet::AuG::Anatomy:Gene',\n",
       " 'DRUGBANK::carrier::Compound:Gene',\n",
       " 'DRUGBANK::ddi-interactor-in::Compound:Compound',\n",
       " 'DRUGBANK::enzyme::Compound:Gene',\n",
       " 'DRUGBANK::target::Compound:Gene',\n",
       " 'DRUGBANK::treats::Compound:Disease',\n",
       " 'DRUGBANK::x-atc::Compound:Atc',\n",
       " 'GNBR::A+::Compound:Gene',\n",
       " 'GNBR::A-::Compound:Gene',\n",
       " 'GNBR::B::Compound:Gene',\n",
       " 'GNBR::C::Compound:Disease',\n",
       " 'GNBR::E+::Compound:Gene',\n",
       " 'GNBR::E-::Compound:Gene',\n",
       " 'GNBR::E::Compound:Gene',\n",
       " 'GNBR::J::Compound:Disease',\n",
       " 'GNBR::K::Compound:Gene',\n",
       " 'GNBR::Mp::Compound:Disease',\n",
       " 'GNBR::N::Compound:Gene',\n",
       " 'GNBR::O::Compound:Gene',\n",
       " 'GNBR::Pa::Compound:Disease',\n",
       " 'GNBR::Pr::Compound:Disease',\n",
       " 'GNBR::Sa::Compound:Disease',\n",
       " 'GNBR::T::Compound:Disease',\n",
       " 'GNBR::Z::Compound:Gene',\n",
       " 'Hetionet::CbG::Compound:Gene',\n",
       " 'Hetionet::CcSE::Compound:Side Effect',\n",
       " 'Hetionet::CdG::Compound:Gene',\n",
       " 'Hetionet::CpD::Compound:Disease',\n",
       " 'Hetionet::CrC::Compound:Compound',\n",
       " 'Hetionet::CtD::Compound:Disease',\n",
       " 'Hetionet::CuG::Compound:Gene',\n",
       " 'INTACT::ASSOCIATION::Compound:Gene',\n",
       " 'INTACT::DIRECT INTERACTION::Compound:Gene',\n",
       " 'INTACT::PHYSICAL ASSOCIATION::Compound:Gene',\n",
       " 'bioarx::DrugHumGen:Compound:Gene',\n",
       " 'bioarx::DrugVirGen:Compound:Gene',\n",
       " 'Hetionet::DaG::Disease:Gene',\n",
       " 'Hetionet::DdG::Disease:Gene',\n",
       " 'Hetionet::DlA::Disease:Anatomy',\n",
       " 'Hetionet::DpS::Disease:Symptom',\n",
       " 'Hetionet::DrD::Disease:Disease',\n",
       " 'Hetionet::DuG::Disease:Gene',\n",
       " 'bioarx::Coronavirus_ass_host_gene::Disease:Gene',\n",
       " 'bioarx::Covid2_acc_host_gene::Disease:Gene',\n",
       " 'DGIDB::ACTIVATOR::Gene:Compound',\n",
       " 'DGIDB::AGONIST::Gene:Compound',\n",
       " 'DGIDB::ALLOSTERIC MODULATOR::Gene:Compound',\n",
       " 'DGIDB::ANTAGONIST::Gene:Compound',\n",
       " 'DGIDB::ANTIBODY::Gene:Compound',\n",
       " 'DGIDB::BINDER::Gene:Compound',\n",
       " 'DGIDB::BLOCKER::Gene:Compound',\n",
       " 'DGIDB::CHANNEL BLOCKER::Gene:Compound',\n",
       " 'DGIDB::INHIBITOR::Gene:Compound',\n",
       " 'DGIDB::MODULATOR::Gene:Compound',\n",
       " 'DGIDB::OTHER::Gene:Compound',\n",
       " 'DGIDB::PARTIAL AGONIST::Gene:Compound',\n",
       " 'DGIDB::POSITIVE ALLOSTERIC MODULATOR::Gene:Compound',\n",
       " 'GNBR::B::Gene:Gene',\n",
       " 'GNBR::D::Gene:Disease',\n",
       " 'GNBR::E+::Gene:Gene',\n",
       " 'GNBR::E::Gene:Gene',\n",
       " 'GNBR::G::Gene:Disease',\n",
       " 'GNBR::H::Gene:Gene',\n",
       " 'GNBR::I::Gene:Gene',\n",
       " 'GNBR::J::Gene:Disease',\n",
       " 'GNBR::L::Gene:Disease',\n",
       " 'GNBR::Md::Gene:Disease',\n",
       " 'GNBR::Q::Gene:Gene',\n",
       " 'GNBR::Rg::Gene:Gene',\n",
       " 'GNBR::Te::Gene:Disease',\n",
       " 'GNBR::U::Gene:Disease',\n",
       " 'GNBR::Ud::Gene:Disease',\n",
       " 'GNBR::V+::Gene:Gene',\n",
       " 'GNBR::W::Gene:Gene',\n",
       " 'GNBR::X::Gene:Disease',\n",
       " 'GNBR::Y::Gene:Disease',\n",
       " 'GNBR::in_tax::Gene:Tax',\n",
       " 'Hetionet::GcG::Gene:Gene',\n",
       " 'Hetionet::GiG::Gene:Gene',\n",
       " 'Hetionet::GpBP::Gene:Biological Process',\n",
       " 'Hetionet::GpCC::Gene:Cellular Component',\n",
       " 'Hetionet::GpMF::Gene:Molecular Function',\n",
       " 'Hetionet::GpPW::Gene:Pathway',\n",
       " 'Hetionet::Gr>G::Gene:Gene',\n",
       " 'INTACT::ADP RIBOSYLATION REACTION::Gene:Gene',\n",
       " 'INTACT::ASSOCIATION::Gene:Gene',\n",
       " 'INTACT::CLEAVAGE REACTION::Gene:Gene',\n",
       " 'INTACT::COLOCALIZATION::Gene:Gene',\n",
       " 'INTACT::DEPHOSPHORYLATION REACTION::Gene:Gene',\n",
       " 'INTACT::DIRECT INTERACTION::Gene:Gene',\n",
       " 'INTACT::PHOSPHORYLATION REACTION::Gene:Gene',\n",
       " 'INTACT::PHYSICAL ASSOCIATION::Gene:Gene',\n",
       " 'INTACT::PROTEIN CLEAVAGE::Gene:Gene',\n",
       " 'INTACT::UBIQUITINATION REACTION::Gene:Gene',\n",
       " 'STRING::ACTIVATION::Gene:Gene',\n",
       " 'STRING::BINDING::Gene:Gene',\n",
       " 'STRING::CATALYSIS::Gene:Gene',\n",
       " 'STRING::EXPRESSION::Gene:Gene',\n",
       " 'STRING::INHIBITION::Gene:Gene',\n",
       " 'STRING::OTHER::Gene:Gene',\n",
       " 'STRING::PTMOD::Gene:Gene',\n",
       " 'STRING::REACTION::Gene:Gene',\n",
       " 'bioarx::HumGenHumGen:Gene:Gene',\n",
       " 'bioarx::VirGenHumGen:Gene:Gene',\n",
       " 'Hetionet::PCiC::Pharmacologic Class:Compound']"
      ]
     },
     "execution_count": 10,
     "metadata": {},
     "output_type": "execute_result"
    }
   ],
   "source": [
    "graph.etypes"
   ]
  },
  {
   "cell_type": "code",
   "execution_count": 11,
   "id": "947cfdd0",
   "metadata": {},
   "outputs": [
    {
     "data": {
      "text/plain": [
       "[('Anatomy', 'Hetionet::AdG::Anatomy:Gene', 'Gene'),\n",
       " ('Anatomy', 'Hetionet::AeG::Anatomy:Gene', 'Gene'),\n",
       " ('Anatomy', 'Hetionet::AuG::Anatomy:Gene', 'Gene'),\n",
       " ('Compound', 'DRUGBANK::carrier::Compound:Gene', 'Gene'),\n",
       " ('Compound', 'DRUGBANK::ddi-interactor-in::Compound:Compound', 'Compound'),\n",
       " ('Compound', 'DRUGBANK::enzyme::Compound:Gene', 'Gene'),\n",
       " ('Compound', 'DRUGBANK::target::Compound:Gene', 'Gene'),\n",
       " ('Compound', 'DRUGBANK::treats::Compound:Disease', 'Disease'),\n",
       " ('Compound', 'DRUGBANK::x-atc::Compound:Atc', 'Atc'),\n",
       " ('Compound', 'GNBR::A+::Compound:Gene', 'Gene'),\n",
       " ('Compound', 'GNBR::A-::Compound:Gene', 'Gene'),\n",
       " ('Compound', 'GNBR::B::Compound:Gene', 'Gene'),\n",
       " ('Compound', 'GNBR::C::Compound:Disease', 'Disease'),\n",
       " ('Compound', 'GNBR::E+::Compound:Gene', 'Gene'),\n",
       " ('Compound', 'GNBR::E-::Compound:Gene', 'Gene'),\n",
       " ('Compound', 'GNBR::E::Compound:Gene', 'Gene'),\n",
       " ('Compound', 'GNBR::J::Compound:Disease', 'Disease'),\n",
       " ('Compound', 'GNBR::K::Compound:Gene', 'Gene'),\n",
       " ('Compound', 'GNBR::Mp::Compound:Disease', 'Disease'),\n",
       " ('Compound', 'GNBR::N::Compound:Gene', 'Gene'),\n",
       " ('Compound', 'GNBR::O::Compound:Gene', 'Gene'),\n",
       " ('Compound', 'GNBR::Pa::Compound:Disease', 'Disease'),\n",
       " ('Compound', 'GNBR::Pr::Compound:Disease', 'Disease'),\n",
       " ('Compound', 'GNBR::Sa::Compound:Disease', 'Disease'),\n",
       " ('Compound', 'GNBR::T::Compound:Disease', 'Disease'),\n",
       " ('Compound', 'GNBR::Z::Compound:Gene', 'Gene'),\n",
       " ('Compound', 'Hetionet::CbG::Compound:Gene', 'Gene'),\n",
       " ('Compound', 'Hetionet::CcSE::Compound:Side Effect', 'Side Effect'),\n",
       " ('Compound', 'Hetionet::CdG::Compound:Gene', 'Gene'),\n",
       " ('Compound', 'Hetionet::CpD::Compound:Disease', 'Disease'),\n",
       " ('Compound', 'Hetionet::CrC::Compound:Compound', 'Compound'),\n",
       " ('Compound', 'Hetionet::CtD::Compound:Disease', 'Disease'),\n",
       " ('Compound', 'Hetionet::CuG::Compound:Gene', 'Gene'),\n",
       " ('Compound', 'INTACT::ASSOCIATION::Compound:Gene', 'Gene'),\n",
       " ('Compound', 'INTACT::DIRECT INTERACTION::Compound:Gene', 'Gene'),\n",
       " ('Compound', 'INTACT::PHYSICAL ASSOCIATION::Compound:Gene', 'Gene'),\n",
       " ('Compound', 'bioarx::DrugHumGen:Compound:Gene', 'Gene'),\n",
       " ('Compound', 'bioarx::DrugVirGen:Compound:Gene', 'Gene'),\n",
       " ('Disease', 'Hetionet::DaG::Disease:Gene', 'Gene'),\n",
       " ('Disease', 'Hetionet::DdG::Disease:Gene', 'Gene'),\n",
       " ('Disease', 'Hetionet::DlA::Disease:Anatomy', 'Anatomy'),\n",
       " ('Disease', 'Hetionet::DpS::Disease:Symptom', 'Symptom'),\n",
       " ('Disease', 'Hetionet::DrD::Disease:Disease', 'Disease'),\n",
       " ('Disease', 'Hetionet::DuG::Disease:Gene', 'Gene'),\n",
       " ('Disease', 'bioarx::Coronavirus_ass_host_gene::Disease:Gene', 'Gene'),\n",
       " ('Disease', 'bioarx::Covid2_acc_host_gene::Disease:Gene', 'Gene'),\n",
       " ('Gene', 'DGIDB::ACTIVATOR::Gene:Compound', 'Compound'),\n",
       " ('Gene', 'DGIDB::AGONIST::Gene:Compound', 'Compound'),\n",
       " ('Gene', 'DGIDB::ALLOSTERIC MODULATOR::Gene:Compound', 'Compound'),\n",
       " ('Gene', 'DGIDB::ANTAGONIST::Gene:Compound', 'Compound'),\n",
       " ('Gene', 'DGIDB::ANTIBODY::Gene:Compound', 'Compound'),\n",
       " ('Gene', 'DGIDB::BINDER::Gene:Compound', 'Compound'),\n",
       " ('Gene', 'DGIDB::BLOCKER::Gene:Compound', 'Compound'),\n",
       " ('Gene', 'DGIDB::CHANNEL BLOCKER::Gene:Compound', 'Compound'),\n",
       " ('Gene', 'DGIDB::INHIBITOR::Gene:Compound', 'Compound'),\n",
       " ('Gene', 'DGIDB::MODULATOR::Gene:Compound', 'Compound'),\n",
       " ('Gene', 'DGIDB::OTHER::Gene:Compound', 'Compound'),\n",
       " ('Gene', 'DGIDB::PARTIAL AGONIST::Gene:Compound', 'Compound'),\n",
       " ('Gene', 'DGIDB::POSITIVE ALLOSTERIC MODULATOR::Gene:Compound', 'Compound'),\n",
       " ('Gene', 'GNBR::B::Gene:Gene', 'Gene'),\n",
       " ('Gene', 'GNBR::D::Gene:Disease', 'Disease'),\n",
       " ('Gene', 'GNBR::E+::Gene:Gene', 'Gene'),\n",
       " ('Gene', 'GNBR::E::Gene:Gene', 'Gene'),\n",
       " ('Gene', 'GNBR::G::Gene:Disease', 'Disease'),\n",
       " ('Gene', 'GNBR::H::Gene:Gene', 'Gene'),\n",
       " ('Gene', 'GNBR::I::Gene:Gene', 'Gene'),\n",
       " ('Gene', 'GNBR::J::Gene:Disease', 'Disease'),\n",
       " ('Gene', 'GNBR::L::Gene:Disease', 'Disease'),\n",
       " ('Gene', 'GNBR::Md::Gene:Disease', 'Disease'),\n",
       " ('Gene', 'GNBR::Q::Gene:Gene', 'Gene'),\n",
       " ('Gene', 'GNBR::Rg::Gene:Gene', 'Gene'),\n",
       " ('Gene', 'GNBR::Te::Gene:Disease', 'Disease'),\n",
       " ('Gene', 'GNBR::U::Gene:Disease', 'Disease'),\n",
       " ('Gene', 'GNBR::Ud::Gene:Disease', 'Disease'),\n",
       " ('Gene', 'GNBR::V+::Gene:Gene', 'Gene'),\n",
       " ('Gene', 'GNBR::W::Gene:Gene', 'Gene'),\n",
       " ('Gene', 'GNBR::X::Gene:Disease', 'Disease'),\n",
       " ('Gene', 'GNBR::Y::Gene:Disease', 'Disease'),\n",
       " ('Gene', 'GNBR::in_tax::Gene:Tax', 'Tax'),\n",
       " ('Gene', 'Hetionet::GcG::Gene:Gene', 'Gene'),\n",
       " ('Gene', 'Hetionet::GiG::Gene:Gene', 'Gene'),\n",
       " ('Gene', 'Hetionet::GpBP::Gene:Biological Process', 'Biological Process'),\n",
       " ('Gene', 'Hetionet::GpCC::Gene:Cellular Component', 'Cellular Component'),\n",
       " ('Gene', 'Hetionet::GpMF::Gene:Molecular Function', 'Molecular Function'),\n",
       " ('Gene', 'Hetionet::GpPW::Gene:Pathway', 'Pathway'),\n",
       " ('Gene', 'Hetionet::Gr>G::Gene:Gene', 'Gene'),\n",
       " ('Gene', 'INTACT::ADP RIBOSYLATION REACTION::Gene:Gene', 'Gene'),\n",
       " ('Gene', 'INTACT::ASSOCIATION::Gene:Gene', 'Gene'),\n",
       " ('Gene', 'INTACT::CLEAVAGE REACTION::Gene:Gene', 'Gene'),\n",
       " ('Gene', 'INTACT::COLOCALIZATION::Gene:Gene', 'Gene'),\n",
       " ('Gene', 'INTACT::DEPHOSPHORYLATION REACTION::Gene:Gene', 'Gene'),\n",
       " ('Gene', 'INTACT::DIRECT INTERACTION::Gene:Gene', 'Gene'),\n",
       " ('Gene', 'INTACT::PHOSPHORYLATION REACTION::Gene:Gene', 'Gene'),\n",
       " ('Gene', 'INTACT::PHYSICAL ASSOCIATION::Gene:Gene', 'Gene'),\n",
       " ('Gene', 'INTACT::PROTEIN CLEAVAGE::Gene:Gene', 'Gene'),\n",
       " ('Gene', 'INTACT::UBIQUITINATION REACTION::Gene:Gene', 'Gene'),\n",
       " ('Gene', 'STRING::ACTIVATION::Gene:Gene', 'Gene'),\n",
       " ('Gene', 'STRING::BINDING::Gene:Gene', 'Gene'),\n",
       " ('Gene', 'STRING::CATALYSIS::Gene:Gene', 'Gene'),\n",
       " ('Gene', 'STRING::EXPRESSION::Gene:Gene', 'Gene'),\n",
       " ('Gene', 'STRING::INHIBITION::Gene:Gene', 'Gene'),\n",
       " ('Gene', 'STRING::OTHER::Gene:Gene', 'Gene'),\n",
       " ('Gene', 'STRING::PTMOD::Gene:Gene', 'Gene'),\n",
       " ('Gene', 'STRING::REACTION::Gene:Gene', 'Gene'),\n",
       " ('Gene', 'bioarx::HumGenHumGen:Gene:Gene', 'Gene'),\n",
       " ('Gene', 'bioarx::VirGenHumGen:Gene:Gene', 'Gene'),\n",
       " ('Pharmacologic Class',\n",
       "  'Hetionet::PCiC::Pharmacologic Class:Compound',\n",
       "  'Compound')]"
      ]
     },
     "execution_count": 11,
     "metadata": {},
     "output_type": "execute_result"
    }
   ],
   "source": [
    "graph.canonical_etypes"
   ]
  },
  {
   "cell_type": "code",
   "execution_count": 12,
   "id": "b8bbb238",
   "metadata": {},
   "outputs": [],
   "source": [
    "import dgl\n",
    "import networkx as nx\n",
    "from pyvis.network import Network"
   ]
  },
  {
   "cell_type": "raw",
   "id": "7bdf90b0",
   "metadata": {},
   "source": []
  },
  {
   "cell_type": "markdown",
   "id": "0fbe16b4",
   "metadata": {},
   "source": [
    "# Training DRKG Using TransE_L2\n",
    "Now we are training the DRKG embeddings using TransE_L2\n",
    "\n",
    "Before training the model, you need to download the original DRKG source file into your local storage, e.g., ./data/drkg.tsv"
   ]
  },
  {
   "cell_type": "markdown",
   "id": "339c47cd",
   "metadata": {},
   "source": [
    "## Install DGL-KE\n",
    "Before training the model, we need to install dgl and dgl-ke packages as well as other dependencies. "
   ]
  },
  {
   "cell_type": "markdown",
   "id": "ebb08239",
   "metadata": {},
   "source": [
    "## Prepare train/valid/test set\n",
    "Before training, we need to split the original drkg into train/valid/test set with a 9:0.5:0.5 manner."
   ]
  },
  {
   "cell_type": "code",
   "execution_count": 14,
   "id": "e045ccb6",
   "metadata": {},
   "outputs": [],
   "source": [
    "import pandas as pd\n",
    "import numpy as np\n",
    "import sys\n",
    "sys.path.insert(1, 'C:/Users/tessy/Desktop/Notes/SEM III/RESEARCH PAPER/report/utils')\n",
    "from utils import download_and_extract\n",
    "download_and_extract()\n",
    "drkg_file = 'C:/Users/tessy/Desktop/Notes/SEM III/RESEARCH PAPER/report/data/drkg.tsv'\n",
    "\n",
    "df = pd.read_csv(drkg_file, sep=\"\\t\", header=None)\n",
    "triples = df.values.tolist()"
   ]
  },
  {
   "cell_type": "markdown",
   "id": "1232ef70",
   "metadata": {},
   "source": [
    "We get 5,869,293 triples, now we will split them into three files"
   ]
  },
  {
   "cell_type": "code",
   "execution_count": 15,
   "id": "63c46d3d",
   "metadata": {},
   "outputs": [
    {
     "data": {
      "text/plain": [
       "5874261"
      ]
     },
     "execution_count": 15,
     "metadata": {},
     "output_type": "execute_result"
    }
   ],
   "source": [
    "num_triples = len(triples)\n",
    "num_triples"
   ]
  },
  {
   "cell_type": "code",
   "execution_count": 16,
   "id": "cf78a1b2",
   "metadata": {},
   "outputs": [],
   "source": [
    "# Please make sure the output directory exist.\n",
    "seed = np.arange(num_triples)\n",
    "np.random.shuffle(seed)\n",
    "\n",
    "train_cnt = int(num_triples * 0.9)\n",
    "valid_cnt = int(num_triples * 0.05)\n",
    "train_set = seed[:train_cnt]\n",
    "train_set = train_set.tolist()\n",
    "valid_set = seed[train_cnt:train_cnt+valid_cnt].tolist()\n",
    "test_set = seed[train_cnt+valid_cnt:].tolist()\n",
    "\n",
    "with open(\"train/drkg_train.tsv\", 'w+') as f:\n",
    "    for idx in train_set:\n",
    "        f.writelines(\"{}\\t{}\\t{}\\n\".format(triples[idx][0], triples[idx][1], triples[idx][2]))\n",
    "        \n",
    "with open(\"train/drkg_valid.tsv\", 'w+') as f:\n",
    "    for idx in valid_set:\n",
    "        f.writelines(\"{}\\t{}\\t{}\\n\".format(triples[idx][0], triples[idx][1], triples[idx][2]))\n",
    "\n",
    "with open(\"train/drkg_test.tsv\", 'w+') as f:\n",
    "    for idx in test_set:\n",
    "        f.writelines(\"{}\\t{}\\t{}\\n\".format(triples[idx][0], triples[idx][1], triples[idx][2]))"
   ]
  },
  {
   "cell_type": "raw",
   "id": "12d5a761",
   "metadata": {},
   "source": []
  },
  {
   "cell_type": "markdown",
   "id": "6ef319d4",
   "metadata": {},
   "source": [
    "## Training TransE_l2 model\n",
    "We can training the TransE_l2 model by simplying using DGL-KE command line. \n",
    "\n",
    "https://github.com/awslabs/dgl-ke.\n",
    "\n",
    "Here we train the model using 8 GPUs on an AWS p3.16xlarge instance."
   ]
  },
  {
   "cell_type": "code",
   "execution_count": 1,
   "id": "cd326007",
   "metadata": {},
   "outputs": [
    {
     "name": "stderr",
     "output_type": "stream",
     "text": [
      "'DGLBACKEND' is not recognized as an internal or external command,\n",
      "operable program or batch file.\n"
     ]
    }
   ],
   "source": [
    "!DGLBACKEND=pytorch dglke_train --dataset DRKG --data_path ./train --data_files drkg_train.tsv drkg_valid.tsv drkg_test.tsv --format 'raw_udd_hrt' --model_name TransE_l2 --batch_size 2048 \\\n",
    "--neg_sample_size 256 --hidden_dim 400 --gamma 12.0 --lr 0.1 --max_step 100000 --log_interval 1000 --batch_size_eval 16 -adv --regularization_coef 1.00E-07 --test --num_thread 1 --gpu 0 1 2 3 4 5 6 7 --num_proc 8 --neg_sample_size_eval 10000 --async_update"
   ]
  },
  {
   "cell_type": "code",
   "execution_count": 20,
   "id": "8229a38b",
   "metadata": {
    "scrolled": true
   },
   "outputs": [
    {
     "name": "stdout",
     "output_type": "stream",
     "text": [
      "Requirement already satisfied: dglke in c:\\users\\tessy\\anaconda3\\lib\\site-packages (0.1.2)\n",
      "Requirement already satisfied: setuptools in c:\\users\\tessy\\anaconda3\\lib\\site-packages (from dglke) (63.4.1)\n",
      "Requirement already satisfied: numpy in c:\\users\\tessy\\anaconda3\\lib\\site-packages (from dglke) (1.21.5)\n",
      "Note: you may need to restart the kernel to use updated packages.\n"
     ]
    }
   ],
   "source": [
    "pip install dglke"
   ]
  },
  {
   "cell_type": "raw",
   "id": "3e1038e2",
   "metadata": {},
   "source": []
  },
  {
   "cell_type": "markdown",
   "id": "d456142b",
   "metadata": {},
   "source": [
    "## A Glance of the Entity and Relation Embeddings"
   ]
  },
  {
   "cell_type": "code",
   "execution_count": 3,
   "id": "88403a15",
   "metadata": {},
   "outputs": [
    {
     "name": "stdout",
     "output_type": "stream",
     "text": [
      "(97238, 400)\n",
      "(107, 400)\n"
     ]
    }
   ],
   "source": [
    "import numpy as np\n",
    "node_emb = np.load('C:/Users/tessy/Desktop/Notes/SEM III/RESEARCH PAPER/report/data/embed/DRKG_TransE_l2_entity.npy')\n",
    "relation_emb = np.load('C:/Users/tessy/Desktop/Notes/SEM III/RESEARCH PAPER/report/data/embed/DRKG_TransE_l2_relation.npy')\n",
    "\n",
    "print(node_emb.shape)\n",
    "print(relation_emb.shape)"
   ]
  },
  {
   "cell_type": "raw",
   "id": "e8daa912",
   "metadata": {},
   "source": []
  },
  {
   "cell_type": "raw",
   "id": "629e47c8",
   "metadata": {},
   "source": []
  },
  {
   "cell_type": "markdown",
   "id": "63dd1735",
   "metadata": {},
   "source": [
    "# DRKG Relation Embedding Similarity Analysis\n",
    "To analyze the trained relation embeddings. \n",
    "\n",
    "Here we first load the trained embeddings and map them back into original relation names. And then apply three methodologies to analyze these embeddings:\n",
    " - Project the embeddings into low dimension space and visualize their distribution.\n",
    " - Use cosine distance to analyze the similarity between each relation.\n",
    " - Use frobenius distance to analyze the similarity between each relation."
   ]
  },
  {
   "cell_type": "code",
   "execution_count": 3,
   "id": "402f4219",
   "metadata": {},
   "outputs": [],
   "source": [
    "import pandas as pd\n",
    "import numpy as np\n",
    "import os\n",
    "import csv"
   ]
  },
  {
   "cell_type": "markdown",
   "id": "8665ff8a",
   "metadata": {},
   "source": [
    "## Loading Relation ID Mapping"
   ]
  },
  {
   "cell_type": "code",
   "execution_count": 5,
   "id": "2f500735",
   "metadata": {},
   "outputs": [
    {
     "name": "stdout",
     "output_type": "stream",
     "text": [
      "Number of relations: 107\n"
     ]
    }
   ],
   "source": [
    "rel2id = {}\n",
    "id2rel = {}\n",
    "with open(\"C:/Users/tessy/Desktop/Notes/SEM III/RESEARCH PAPER/report/data/relations.tsv\", newline='', encoding='utf-8') as csvfile:\n",
    "    reader = csv.DictReader(csvfile, delimiter='\\t', fieldnames=['rel','id'])\n",
    "    for row_val in reader:\n",
    "        id = row_val['id']\n",
    "        relation = row_val['rel']\n",
    "\n",
    "        rel2id[relation] = int(id)\n",
    "        id2rel[int(id)] = relation\n",
    "\n",
    "print(\"Number of relations: {}\".format(len(rel2id)))"
   ]
  },
  {
   "cell_type": "markdown",
   "id": "86fbb4cd",
   "metadata": {},
   "source": [
    "## Loading Relation Embeddings"
   ]
  },
  {
   "cell_type": "code",
   "execution_count": 6,
   "id": "bd6f4d3a",
   "metadata": {},
   "outputs": [
    {
     "name": "stdout",
     "output_type": "stream",
     "text": [
      "(107, 400)\n"
     ]
    }
   ],
   "source": [
    "rel_emb = np.load('C:/Users/tessy/Desktop/Notes/SEM III/RESEARCH PAPER/report/data/embed/DRKG_TransE_l2_relation.npy')\n",
    "print(rel_emb.shape)"
   ]
  },
  {
   "cell_type": "markdown",
   "id": "bc835002",
   "metadata": {},
   "source": [
    "## General Relation Embedding Clustering\n",
    "Here we use t-SNE to convert relation embeddings into low dimension space and visualize their distribution."
   ]
  },
  {
   "cell_type": "code",
   "execution_count": 7,
   "id": "5bf5ce4d",
   "metadata": {},
   "outputs": [
    {
     "name": "stderr",
     "output_type": "stream",
     "text": [
      "C:\\Users\\tessy\\anaconda3\\lib\\site-packages\\sklearn\\manifold\\_t_sne.py:780: FutureWarning: The default initialization in TSNE will change from 'random' to 'pca' in 1.2.\n",
      "  warnings.warn(\n",
      "C:\\Users\\tessy\\anaconda3\\lib\\site-packages\\sklearn\\manifold\\_t_sne.py:790: FutureWarning: The default learning rate in TSNE will change from 200.0 to 'auto' in 1.2.\n",
      "  warnings.warn(\n",
      "C:\\Users\\tessy\\AppData\\Local\\Temp\\ipykernel_6332\\3852980711.py:18: DeprecationWarning: `np.long` is a deprecated alias for `np.compat.long`. To silence this warning, use `np.compat.long` by itself. In the likely event your code does not need to work on Python 2 you can use the builtin `int` for which `np.compat.long` is itself an alias. Doing this will not modify any behaviour and is safe. When replacing `np.long`, you may wish to use e.g. `np.int64` or `np.int32` to specify the precision. If you wish to review your current use, check the release note link for additional information.\n",
      "Deprecated in NumPy 1.20; for more details and guidance: https://numpy.org/devdocs/release/1.20.0-notes.html#deprecations\n",
      "  val = np.asarray(val, dtype=np.long)\n",
      "The PostScript backend does not support transparency; partially transparent artists will be rendered opaque.\n"
     ]
    },
    {
     "data": {
      "image/png": "[encoded data removed]",
      "text/plain": [
       "<Figure size 640x480 with 1 Axes>"
      ]
     },
     "metadata": {},
     "output_type": "display_data"
    }
   ],
   "source": [
    "from matplotlib import cm\n",
    "import matplotlib.pyplot as plt\n",
    "from sklearn.utils import check_random_state\n",
    "from sklearn.manifold import TSNE\n",
    "\n",
    "dataset_id = {}\n",
    "for rel_name, i in rel2id.items():\n",
    "    rel_key = rel_name.split('::')[0]\n",
    "    if dataset_id.get(rel_key, None) is None:\n",
    "        dataset_id[rel_key] = []\n",
    "    dataset_id[rel_key].append(i)\n",
    "\n",
    "X_embedded = TSNE(n_components=2).fit_transform(rel_emb).T\n",
    "p = cm.rainbow(int(255/2 * 1))\n",
    "fig = plt.figure()\n",
    "ax = fig.add_subplot(111)\n",
    "for key, val in dataset_id.items():\n",
    "    val = np.asarray(val, dtype=np.long)\n",
    "\n",
    "    ax.plot(X_embedded[0][val], X_embedded[1][val], '.', label=key)\n",
    "\n",
    "lgd = ax.legend(bbox_to_anchor=(1.0, 1.0))\n",
    "plt.savefig('relation.eps', bbox_extra_artists=(lgd,), bbox_inches='tight', format='eps')"
   ]
  },
  {
   "cell_type": "markdown",
   "id": "5f5539c2",
   "metadata": {},
   "source": [
    "## Pair-wise Relation Embedding Cosine Similarity\n",
    "We calculate the pair-wise embedding similarity using cosine distance and output the top10 most similar pairs."
   ]
  },
  {
   "cell_type": "code",
   "execution_count": 8,
   "id": "b7535ff3",
   "metadata": {},
   "outputs": [
    {
     "data": {
      "text/plain": [
       "[('GNBR::E::Compound:Gene', 'GNBR::K::Compound:Gene', 0.98599327),\n",
       " ('GNBR::E::Compound:Gene', 'GNBR::E+::Compound:Gene', 0.9829707),\n",
       " ('GNBR::N::Compound:Gene', 'GNBR::E-::Compound:Gene', 0.96987224),\n",
       " ('GNBR::E::Compound:Gene', 'GNBR::E-::Compound:Gene', 0.96532124),\n",
       " ('GNBR::K::Compound:Gene', 'GNBR::E+::Compound:Gene', 0.9564866),\n",
       " ('GNBR::E+::Compound:Gene', 'GNBR::E-::Compound:Gene', 0.95019233),\n",
       " ('GNBR::L::Gene:Disease', 'GNBR::G::Gene:Disease', 0.9419448),\n",
       " ('GNBR::K::Compound:Gene', 'GNBR::E-::Compound:Gene', 0.94074607),\n",
       " ('GNBR::J::Gene:Disease', 'GNBR::Md::Gene:Disease', 0.9319676),\n",
       " ('GNBR::J::Gene:Disease', 'GNBR::Te::Gene:Disease', 0.93183714)]"
      ]
     },
     "execution_count": 8,
     "metadata": {},
     "output_type": "execute_result"
    }
   ],
   "source": [
    "from sklearn.metrics.pairwise import cosine_similarity\n",
    "\n",
    "similarity = cosine_similarity(rel_emb)\n",
    "idx = np.flip(np.argsort(similarity), axis=1)\n",
    "\n",
    "max_pairs = []\n",
    "for i in range(idx.shape[0]):\n",
    "    j = 1\n",
    "    while (similarity[i][idx[i][j]] > 0.9):\n",
    "        max_pairs.append((id2rel[idx[i][0]], id2rel[idx[i][j]], similarity[i][idx[i][j]]))\n",
    "        j += 1\n",
    "\n",
    "def sort_score(pair):\n",
    "    return pair[2]\n",
    "\n",
    "max_pairs.sort(reverse=True, key=sort_score)\n",
    "sim_pairs = []\n",
    "for i, pair in enumerate(max_pairs):\n",
    "    if i % 2 == 0:\n",
    "        sim_pairs.append(pair)\n",
    "\n",
    "sim_pairs[:10]"
   ]
  },
  {
   "cell_type": "markdown",
   "id": "30d8cb52",
   "metadata": {},
   "source": [
    "Then we draw a histogram of how the pair-wise similarity score distributed."
   ]
  },
  {
   "cell_type": "code",
   "execution_count": 9,
   "id": "dd319896",
   "metadata": {},
   "outputs": [
    {
     "name": "stdout",
     "output_type": "stream",
     "text": [
      "(11449,)\n"
     ]
    },
    {
     "data": {
      "image/png": "[encoded data removed]",
      "text/plain": [
       "<Figure size 640x480 with 1 Axes>"
      ]
     },
     "metadata": {},
     "output_type": "display_data"
    }
   ],
   "source": [
    "similarity=similarity.flatten()\n",
    "print(similarity.shape)\n",
    "\n",
    "# cleanup self-compare and dup-compare\n",
    "s = similarity < 0.99\n",
    "s = np.unique(similarity[s])\n",
    "plt.xlabel('Cosine similarity')\n",
    "plt.ylabel('Number of relation pairs')\n",
    "plt.hist(s)\n",
    "plt.savefig('relation-sim.eps', format='eps')"
   ]
  },
  {
   "cell_type": "raw",
   "id": "7db74d35",
   "metadata": {},
   "source": []
  },
  {
   "cell_type": "raw",
   "id": "508eecc5",
   "metadata": {},
   "source": []
  },
  {
   "cell_type": "markdown",
   "id": "874a642e",
   "metadata": {},
   "source": [
    "# DRKG Entity Embedding Similarity Analysis\n",
    "Now we are going to analyze the trained entity embeddings\n",
    "\n",
    "We first load the trained entity embeddings and map them back into original entity names. And then apply two methodologies to analyze these embeddings:\n",
    " - Project all the entity embeddings into low dimension space and visualize their distribution.\n",
    " - Use cosine distance to analyze the similarity between each entity."
   ]
  },
  {
   "cell_type": "markdown",
   "id": "e3517d04",
   "metadata": {},
   "source": [
    "## Loading Entity ID Mapping"
   ]
  },
  {
   "cell_type": "code",
   "execution_count": 4,
   "id": "f103208e",
   "metadata": {},
   "outputs": [
    {
     "name": "stdout",
     "output_type": "stream",
     "text": [
      "Number of entities: 97238\n"
     ]
    }
   ],
   "source": [
    "entity2id = {}\n",
    "id2entity = {}\n",
    "with open(\"C:/Users/tessy/Desktop/Notes/SEM III/RESEARCH PAPER/report/data/entities.tsv\", newline='', encoding='utf-8') as csvfile:\n",
    "    reader = csv.DictReader(csvfile, delimiter='\\t', fieldnames=['entity','id'])\n",
    "    for row_val in reader:\n",
    "        id = row_val['id']\n",
    "        entity = row_val['entity']\n",
    "\n",
    "        entity2id[entity] = int(id)\n",
    "        id2entity[int(id)] = entity\n",
    "\n",
    "print(\"Number of entities: {}\".format(len(entity2id)))"
   ]
  },
  {
   "cell_type": "markdown",
   "id": "c170d934",
   "metadata": {},
   "source": [
    "## Loading Entity Embeddings"
   ]
  },
  {
   "cell_type": "code",
   "execution_count": 5,
   "id": "c103cdbd",
   "metadata": {},
   "outputs": [
    {
     "name": "stdout",
     "output_type": "stream",
     "text": [
      "(97238, 400)\n"
     ]
    }
   ],
   "source": [
    "entity_emb = np.load('C:/Users/tessy/Desktop/Notes/SEM III/RESEARCH PAPER/report/data/embed/DRKG_TransE_l2_entity.npy')\n",
    "print(entity_emb.shape)"
   ]
  },
  {
   "cell_type": "markdown",
   "id": "0e23f919",
   "metadata": {},
   "source": [
    "## General Entity Embedding Clustering\n",
    "Here we use t-SNE to convert entity embeddings into low dimension space and visualize their distribution."
   ]
  },
  {
   "cell_type": "code",
   "execution_count": 6,
   "id": "b0273b7a",
   "metadata": {},
   "outputs": [
    {
     "ename": "ModuleNotFoundError",
     "evalue": "No module named 'MulticoreTSNE'",
     "output_type": "error",
     "traceback": [
      "\u001b[1;31m---------------------------------------------------------------------------\u001b[0m",
      "\u001b[1;31mModuleNotFoundError\u001b[0m                       Traceback (most recent call last)",
      "\u001b[1;32m~\\AppData\\Local\\Temp\\ipykernel_27312\\3094302067.py\u001b[0m in \u001b[0;36m<module>\u001b[1;34m\u001b[0m\n\u001b[0;32m      2\u001b[0m \u001b[1;32mimport\u001b[0m \u001b[0mmatplotlib\u001b[0m\u001b[1;33m.\u001b[0m\u001b[0mpyplot\u001b[0m \u001b[1;32mas\u001b[0m \u001b[0mplt\u001b[0m\u001b[1;33m\u001b[0m\u001b[1;33m\u001b[0m\u001b[0m\n\u001b[0;32m      3\u001b[0m \u001b[1;32mfrom\u001b[0m \u001b[0msklearn\u001b[0m\u001b[1;33m.\u001b[0m\u001b[0mutils\u001b[0m \u001b[1;32mimport\u001b[0m \u001b[0mcheck_random_state\u001b[0m\u001b[1;33m\u001b[0m\u001b[1;33m\u001b[0m\u001b[0m\n\u001b[1;32m----> 4\u001b[1;33m \u001b[1;32mfrom\u001b[0m \u001b[0mMulticoreTSNE\u001b[0m \u001b[1;32mimport\u001b[0m \u001b[0mMulticoreTSNE\u001b[0m \u001b[1;32mas\u001b[0m \u001b[0mTSNE\u001b[0m\u001b[1;33m\u001b[0m\u001b[1;33m\u001b[0m\u001b[0m\n\u001b[0m\u001b[0;32m      5\u001b[0m \u001b[1;33m\u001b[0m\u001b[0m\n\u001b[0;32m      6\u001b[0m \u001b[0mX_embedded\u001b[0m \u001b[1;33m=\u001b[0m \u001b[0mTSNE\u001b[0m\u001b[1;33m(\u001b[0m\u001b[0mn_components\u001b[0m\u001b[1;33m=\u001b[0m\u001b[1;36m2\u001b[0m\u001b[1;33m,\u001b[0m \u001b[0mn_jobs\u001b[0m\u001b[1;33m=\u001b[0m\u001b[1;36m40\u001b[0m\u001b[1;33m)\u001b[0m\u001b[1;33m.\u001b[0m\u001b[0mfit_transform\u001b[0m\u001b[1;33m(\u001b[0m\u001b[0mentity_emb\u001b[0m\u001b[1;33m)\u001b[0m\u001b[1;33m.\u001b[0m\u001b[0mT\u001b[0m\u001b[1;33m\u001b[0m\u001b[1;33m\u001b[0m\u001b[0m\n",
      "\u001b[1;31mModuleNotFoundError\u001b[0m: No module named 'MulticoreTSNE'"
     ]
    }
   ],
   "source": [
    "from matplotlib import cm\n",
    "import matplotlib.pyplot as plt\n",
    "from sklearn.utils import check_random_state\n",
    "from MulticoreTSNE import MulticoreTSNE as TSNE\n",
    "\n",
    "X_embedded = TSNE(n_components=2, n_jobs=40).fit_transform(entity_emb).T\n",
    "\n",
    "#plt.savefig('entityation.png')"
   ]
  },
  {
   "cell_type": "code",
   "execution_count": 1,
   "id": "3fe097eb",
   "metadata": {
    "scrolled": false
   },
   "outputs": [
    {
     "name": "stdout",
     "output_type": "stream",
     "text": [
      "Collecting MulticoreTSNENote: you may need to restart the kernel to use updated packages.\n"
     ]
    },
    {
     "name": "stderr",
     "output_type": "stream",
     "text": [
      "  error: subprocess-exited-with-error\n",
      "  \n",
      "  python setup.py bdist_wheel did not run successfully.\n",
      "  exit code: 1\n",
      "  \n",
      "  [27 lines of output]\n",
      "  running bdist_wheel\n",
      "  running build\n",
      "  running build_py\n",
      "  creating build\n",
      "  creating build\\lib.win-amd64-cpython-39\n",
      "  creating build\\lib.win-amd64-cpython-39\\MulticoreTSNE\n",
      "  copying MulticoreTSNE\\__init__.py -> build\\lib.win-amd64-cpython-39\\MulticoreTSNE\n",
      "  creating build\\lib.win-amd64-cpython-39\\MulticoreTSNE\\tests\n",
      "  copying MulticoreTSNE\\tests\\test_base.py -> build\\lib.win-amd64-cpython-39\\MulticoreTSNE\\tests\n",
      "  copying MulticoreTSNE\\tests\\__init__.py -> build\\lib.win-amd64-cpython-39\\MulticoreTSNE\\tests\n",
      "  running egg_info\n",
      "  writing MulticoreTSNE.egg-info\\PKG-INFO\n",
      "  writing dependency_links to MulticoreTSNE.egg-info\\dependency_links.txt\n",
      "  writing requirements to MulticoreTSNE.egg-info\\requires.txt\n",
      "  writing top-level names to MulticoreTSNE.egg-info\\top_level.txt\n",
      "  reading manifest file 'MulticoreTSNE.egg-info\\SOURCES.txt'\n",
      "  reading manifest template 'MANIFEST.in'\n",
      "  adding license file 'LICENSE.txt'\n",
      "  writing manifest file 'MulticoreTSNE.egg-info\\SOURCES.txt'\n",
      "  running build_ext\n",
      "  cmake version 3.25.0\n",
      "  \n",
      "  CMake suite maintained and supported by Kitware (kitware.com/cmake).\n",
      "  CMake Error: Unknown argument --\n",
      "  CMake Error: Run 'cmake --help' for all supported options.\n",
      "  \n",
      "  ERROR: Cannot generate Makefile. See above errors.\n",
      "  [end of output]\n",
      "  \n",
      "  note: This error originates from a subprocess, and is likely not a problem with pip.\n",
      "  ERROR: Failed building wheel for MulticoreTSNE\n",
      "  error: subprocess-exited-with-error\n",
      "  \n",
      "  Running setup.py install for MulticoreTSNE did not run successfully.\n",
      "  exit code: 1\n",
      "  \n",
      "  [29 lines of output]\n",
      "  running install\n",
      "  C:\\Users\\tessy\\anaconda3\\lib\\site-packages\\setuptools\\command\\install.py:34: SetuptoolsDeprecationWarning: setup.py install is deprecated. Use build and pip and other standards-based tools.\n",
      "    warnings.warn(\n",
      "  running build\n",
      "  running build_py\n",
      "  creating build\n",
      "  creating build\\lib.win-amd64-cpython-39\n",
      "  creating build\\lib.win-amd64-cpython-39\\MulticoreTSNE\n",
      "  copying MulticoreTSNE\\__init__.py -> build\\lib.win-amd64-cpython-39\\MulticoreTSNE\n",
      "  creating build\\lib.win-amd64-cpython-39\\MulticoreTSNE\\tests\n",
      "  copying MulticoreTSNE\\tests\\test_base.py -> build\\lib.win-amd64-cpython-39\\MulticoreTSNE\\tests\n",
      "  copying MulticoreTSNE\\tests\\__init__.py -> build\\lib.win-amd64-cpython-39\\MulticoreTSNE\\tests\n",
      "  running egg_info\n",
      "  writing MulticoreTSNE.egg-info\\PKG-INFO\n",
      "  writing dependency_links to MulticoreTSNE.egg-info\\dependency_links.txt\n",
      "  writing requirements to MulticoreTSNE.egg-info\\requires.txt\n",
      "  writing top-level names to MulticoreTSNE.egg-info\\top_level.txt\n",
      "  reading manifest file 'MulticoreTSNE.egg-info\\SOURCES.txt'\n",
      "  reading manifest template 'MANIFEST.in'\n",
      "  adding license file 'LICENSE.txt'\n",
      "  writing manifest file 'MulticoreTSNE.egg-info\\SOURCES.txt'\n",
      "  running build_ext\n",
      "  cmake version 3.25.0\n",
      "  \n",
      "  CMake suite maintained and supported by Kitware (kitware.com/cmake).\n",
      "  CMake Error: Unknown argument --\n",
      "  CMake Error: Run 'cmake --help' for all supported options.\n",
      "  \n",
      "  ERROR: Cannot generate Makefile. See above errors.\n",
      "  [end of output]\n",
      "  \n",
      "  note: This error originates from a subprocess, and is likely not a problem with pip.\n",
      "error: legacy-install-failure\n",
      "\n",
      "Encountered error while trying to install package.\n",
      "\n",
      "MulticoreTSNE\n",
      "\n",
      "note: This is an issue with the package mentioned above, not pip.\n",
      "hint: See above for output from the failure.\n"
     ]
    },
    {
     "name": "stdout",
     "output_type": "stream",
     "text": [
      "\n",
      "  Using cached MulticoreTSNE-0.1.tar.gz (20 kB)\n",
      "  Preparing metadata (setup.py): started\n",
      "  Preparing metadata (setup.py): finished with status 'done'\n",
      "Requirement already satisfied: numpy in c:\\users\\tessy\\anaconda3\\lib\\site-packages (from MulticoreTSNE) (1.21.5)\n",
      "Requirement already satisfied: cffi in c:\\users\\tessy\\anaconda3\\lib\\site-packages (from MulticoreTSNE) (1.15.1)\n",
      "Requirement already satisfied: pycparser in c:\\users\\tessy\\anaconda3\\lib\\site-packages (from cffi->MulticoreTSNE) (2.21)\n",
      "Building wheels for collected packages: MulticoreTSNE\n",
      "  Building wheel for MulticoreTSNE (setup.py): started\n",
      "  Building wheel for MulticoreTSNE (setup.py): finished with status 'error'\n",
      "  Running setup.py clean for MulticoreTSNE\n",
      "Failed to build MulticoreTSNE\n",
      "Installing collected packages: MulticoreTSNE\n",
      "  Running setup.py install for MulticoreTSNE: started\n",
      "  Running setup.py install for MulticoreTSNE: finished with status 'error'\n"
     ]
    }
   ],
   "source": [
    "pip install MulticoreTSNE"
   ]
  },
  {
   "cell_type": "code",
   "execution_count": 17,
   "id": "5623319b",
   "metadata": {
    "scrolled": true
   },
   "outputs": [
    {
     "name": "stdout",
     "output_type": "stream",
     "text": [
      "Collecting cmake\n",
      "  Downloading cmake-3.25.0-py2.py3-none-win_amd64.whl (32.6 MB)\n",
      "     ---------------------------------------- 32.6/32.6 MB 5.8 MB/s eta 0:00:00\n",
      "Installing collected packages: cmake\n",
      "Successfully installed cmake-3.25.0\n",
      "Note: you may need to restart the kernel to use updated packages.\n"
     ]
    }
   ],
   "source": [
    "pip install cmake"
   ]
  },
  {
   "cell_type": "markdown",
   "id": "978b2d50",
   "metadata": {},
   "source": [
    "## Calculate entity cosine similarity"
   ]
  },
  {
   "cell_type": "code",
   "execution_count": 7,
   "id": "fbd3bbd1",
   "metadata": {},
   "outputs": [
    {
     "ename": "MemoryError",
     "evalue": "Unable to allocate 35.2 GiB for an array with shape (97238, 97238) and data type float32",
     "output_type": "error",
     "traceback": [
      "\u001b[1;31m---------------------------------------------------------------------------\u001b[0m",
      "\u001b[1;31mMemoryError\u001b[0m                               Traceback (most recent call last)",
      "\u001b[1;32m~\\AppData\\Local\\Temp\\ipykernel_27312\\3181962633.py\u001b[0m in \u001b[0;36m<module>\u001b[1;34m\u001b[0m\n\u001b[0;32m      1\u001b[0m \u001b[1;32mfrom\u001b[0m \u001b[0msklearn\u001b[0m\u001b[1;33m.\u001b[0m\u001b[0mmetrics\u001b[0m\u001b[1;33m.\u001b[0m\u001b[0mpairwise\u001b[0m \u001b[1;32mimport\u001b[0m \u001b[0mcosine_similarity\u001b[0m\u001b[1;33m\u001b[0m\u001b[1;33m\u001b[0m\u001b[0m\n\u001b[0;32m      2\u001b[0m \u001b[1;33m\u001b[0m\u001b[0m\n\u001b[1;32m----> 3\u001b[1;33m \u001b[0msimilarity\u001b[0m \u001b[1;33m=\u001b[0m \u001b[0mcosine_similarity\u001b[0m\u001b[1;33m(\u001b[0m\u001b[0mentity_emb\u001b[0m\u001b[1;33m)\u001b[0m\u001b[1;33m\u001b[0m\u001b[1;33m\u001b[0m\u001b[0m\n\u001b[0m",
      "\u001b[1;32m~\\anaconda3\\lib\\site-packages\\sklearn\\metrics\\pairwise.py\u001b[0m in \u001b[0;36mcosine_similarity\u001b[1;34m(X, Y, dense_output)\u001b[0m\n\u001b[0;32m   1257\u001b[0m         \u001b[0mY_normalized\u001b[0m \u001b[1;33m=\u001b[0m \u001b[0mnormalize\u001b[0m\u001b[1;33m(\u001b[0m\u001b[0mY\u001b[0m\u001b[1;33m,\u001b[0m \u001b[0mcopy\u001b[0m\u001b[1;33m=\u001b[0m\u001b[1;32mTrue\u001b[0m\u001b[1;33m)\u001b[0m\u001b[1;33m\u001b[0m\u001b[1;33m\u001b[0m\u001b[0m\n\u001b[0;32m   1258\u001b[0m \u001b[1;33m\u001b[0m\u001b[0m\n\u001b[1;32m-> 1259\u001b[1;33m     \u001b[0mK\u001b[0m \u001b[1;33m=\u001b[0m \u001b[0msafe_sparse_dot\u001b[0m\u001b[1;33m(\u001b[0m\u001b[0mX_normalized\u001b[0m\u001b[1;33m,\u001b[0m \u001b[0mY_normalized\u001b[0m\u001b[1;33m.\u001b[0m\u001b[0mT\u001b[0m\u001b[1;33m,\u001b[0m \u001b[0mdense_output\u001b[0m\u001b[1;33m=\u001b[0m\u001b[0mdense_output\u001b[0m\u001b[1;33m)\u001b[0m\u001b[1;33m\u001b[0m\u001b[1;33m\u001b[0m\u001b[0m\n\u001b[0m\u001b[0;32m   1260\u001b[0m \u001b[1;33m\u001b[0m\u001b[0m\n\u001b[0;32m   1261\u001b[0m     \u001b[1;32mreturn\u001b[0m \u001b[0mK\u001b[0m\u001b[1;33m\u001b[0m\u001b[1;33m\u001b[0m\u001b[0m\n",
      "\u001b[1;32m~\\anaconda3\\lib\\site-packages\\sklearn\\utils\\extmath.py\u001b[0m in \u001b[0;36msafe_sparse_dot\u001b[1;34m(a, b, dense_output)\u001b[0m\n\u001b[0;32m    151\u001b[0m             \u001b[0mret\u001b[0m \u001b[1;33m=\u001b[0m \u001b[0mnp\u001b[0m\u001b[1;33m.\u001b[0m\u001b[0mdot\u001b[0m\u001b[1;33m(\u001b[0m\u001b[0ma\u001b[0m\u001b[1;33m,\u001b[0m \u001b[0mb\u001b[0m\u001b[1;33m)\u001b[0m\u001b[1;33m\u001b[0m\u001b[1;33m\u001b[0m\u001b[0m\n\u001b[0;32m    152\u001b[0m     \u001b[1;32melse\u001b[0m\u001b[1;33m:\u001b[0m\u001b[1;33m\u001b[0m\u001b[1;33m\u001b[0m\u001b[0m\n\u001b[1;32m--> 153\u001b[1;33m         \u001b[0mret\u001b[0m \u001b[1;33m=\u001b[0m \u001b[0ma\u001b[0m \u001b[1;33m@\u001b[0m \u001b[0mb\u001b[0m\u001b[1;33m\u001b[0m\u001b[1;33m\u001b[0m\u001b[0m\n\u001b[0m\u001b[0;32m    154\u001b[0m \u001b[1;33m\u001b[0m\u001b[0m\n\u001b[0;32m    155\u001b[0m     if (\n",
      "\u001b[1;31mMemoryError\u001b[0m: Unable to allocate 35.2 GiB for an array with shape (97238, 97238) and data type float32"
     ]
    }
   ],
   "source": [
    "from sklearn.metrics.pairwise import cosine_similarity\n",
    "\n",
    "similarity = cosine_similarity(entity_emb)"
   ]
  },
  {
   "cell_type": "code",
   "execution_count": 9,
   "id": "65cc1791",
   "metadata": {},
   "outputs": [
    {
     "ename": "MemoryError",
     "evalue": "Unable to allocate 35.2 GiB for an array with shape (97238, 97238) and data type float32",
     "output_type": "error",
     "traceback": [
      "\u001b[1;31m---------------------------------------------------------------------------\u001b[0m",
      "\u001b[1;31mMemoryError\u001b[0m                               Traceback (most recent call last)",
      "\u001b[1;32m~\\AppData\\Local\\Temp\\ipykernel_27312\\2213130755.py\u001b[0m in \u001b[0;36m<module>\u001b[1;34m\u001b[0m\n\u001b[0;32m      1\u001b[0m \u001b[1;32mfrom\u001b[0m \u001b[0msklearn\u001b[0m\u001b[1;33m.\u001b[0m\u001b[0mmetrics\u001b[0m\u001b[1;33m.\u001b[0m\u001b[0mpairwise\u001b[0m \u001b[1;32mimport\u001b[0m \u001b[0mcosine_similarity\u001b[0m\u001b[1;33m\u001b[0m\u001b[1;33m\u001b[0m\u001b[0m\n\u001b[0;32m      2\u001b[0m \u001b[1;33m\u001b[0m\u001b[0m\n\u001b[1;32m----> 3\u001b[1;33m \u001b[0msimilarity\u001b[0m \u001b[1;33m=\u001b[0m \u001b[0mcosine_similarity\u001b[0m\u001b[1;33m(\u001b[0m\u001b[0mentity_emb\u001b[0m\u001b[1;33m)\u001b[0m\u001b[1;33m\u001b[0m\u001b[1;33m\u001b[0m\u001b[0m\n\u001b[0m\u001b[0;32m      4\u001b[0m \u001b[0midx\u001b[0m \u001b[1;33m=\u001b[0m \u001b[0mnp\u001b[0m\u001b[1;33m.\u001b[0m\u001b[0mflip\u001b[0m\u001b[1;33m(\u001b[0m\u001b[0mnp\u001b[0m\u001b[1;33m.\u001b[0m\u001b[0margsort\u001b[0m\u001b[1;33m(\u001b[0m\u001b[0msimilarity\u001b[0m\u001b[1;33m)\u001b[0m\u001b[1;33m,\u001b[0m \u001b[0maxis\u001b[0m\u001b[1;33m=\u001b[0m\u001b[1;36m1\u001b[0m\u001b[1;33m)\u001b[0m\u001b[1;33m\u001b[0m\u001b[1;33m\u001b[0m\u001b[0m\n\u001b[0;32m      5\u001b[0m \u001b[1;33m\u001b[0m\u001b[0m\n",
      "\u001b[1;32m~\\anaconda3\\lib\\site-packages\\sklearn\\metrics\\pairwise.py\u001b[0m in \u001b[0;36mcosine_similarity\u001b[1;34m(X, Y, dense_output)\u001b[0m\n\u001b[0;32m   1257\u001b[0m         \u001b[0mY_normalized\u001b[0m \u001b[1;33m=\u001b[0m \u001b[0mnormalize\u001b[0m\u001b[1;33m(\u001b[0m\u001b[0mY\u001b[0m\u001b[1;33m,\u001b[0m \u001b[0mcopy\u001b[0m\u001b[1;33m=\u001b[0m\u001b[1;32mTrue\u001b[0m\u001b[1;33m)\u001b[0m\u001b[1;33m\u001b[0m\u001b[1;33m\u001b[0m\u001b[0m\n\u001b[0;32m   1258\u001b[0m \u001b[1;33m\u001b[0m\u001b[0m\n\u001b[1;32m-> 1259\u001b[1;33m     \u001b[0mK\u001b[0m \u001b[1;33m=\u001b[0m \u001b[0msafe_sparse_dot\u001b[0m\u001b[1;33m(\u001b[0m\u001b[0mX_normalized\u001b[0m\u001b[1;33m,\u001b[0m \u001b[0mY_normalized\u001b[0m\u001b[1;33m.\u001b[0m\u001b[0mT\u001b[0m\u001b[1;33m,\u001b[0m \u001b[0mdense_output\u001b[0m\u001b[1;33m=\u001b[0m\u001b[0mdense_output\u001b[0m\u001b[1;33m)\u001b[0m\u001b[1;33m\u001b[0m\u001b[1;33m\u001b[0m\u001b[0m\n\u001b[0m\u001b[0;32m   1260\u001b[0m \u001b[1;33m\u001b[0m\u001b[0m\n\u001b[0;32m   1261\u001b[0m     \u001b[1;32mreturn\u001b[0m \u001b[0mK\u001b[0m\u001b[1;33m\u001b[0m\u001b[1;33m\u001b[0m\u001b[0m\n",
      "\u001b[1;32m~\\anaconda3\\lib\\site-packages\\sklearn\\utils\\extmath.py\u001b[0m in \u001b[0;36msafe_sparse_dot\u001b[1;34m(a, b, dense_output)\u001b[0m\n\u001b[0;32m    151\u001b[0m             \u001b[0mret\u001b[0m \u001b[1;33m=\u001b[0m \u001b[0mnp\u001b[0m\u001b[1;33m.\u001b[0m\u001b[0mdot\u001b[0m\u001b[1;33m(\u001b[0m\u001b[0ma\u001b[0m\u001b[1;33m,\u001b[0m \u001b[0mb\u001b[0m\u001b[1;33m)\u001b[0m\u001b[1;33m\u001b[0m\u001b[1;33m\u001b[0m\u001b[0m\n\u001b[0;32m    152\u001b[0m     \u001b[1;32melse\u001b[0m\u001b[1;33m:\u001b[0m\u001b[1;33m\u001b[0m\u001b[1;33m\u001b[0m\u001b[0m\n\u001b[1;32m--> 153\u001b[1;33m         \u001b[0mret\u001b[0m \u001b[1;33m=\u001b[0m \u001b[0ma\u001b[0m \u001b[1;33m@\u001b[0m \u001b[0mb\u001b[0m\u001b[1;33m\u001b[0m\u001b[1;33m\u001b[0m\u001b[0m\n\u001b[0m\u001b[0;32m    154\u001b[0m \u001b[1;33m\u001b[0m\u001b[0m\n\u001b[0;32m    155\u001b[0m     if (\n",
      "\u001b[1;31mMemoryError\u001b[0m: Unable to allocate 35.2 GiB for an array with shape (97238, 97238) and data type float32"
     ]
    }
   ],
   "source": [
    "from sklearn.metrics.pairwise import cosine_similarity\n",
    "\n",
    "similarity = cosine_similarity(entity_emb)\n",
    "idx = np.flip(np.argsort(similarity), axis=1)\n",
    "\n",
    "max_pairs = []\n",
    "for i in range(idx.shape[0]):\n",
    "    j = 1\n",
    "    while (similarity[i][idx[i][j]] > 0.9):\n",
    "        max_pairs.append((id2entity[idx[i][0]], id2entity[idx[i][j]], similarity[i][idx[i][j]]))\n",
    "        j += 1\n",
    "\n",
    "def sort_score(pair):\n",
    "    return pair[2]\n",
    "\n",
    "max_pairs.sort(reverse=True, key=sort_score)\n",
    "sim_pairs = []\n",
    "for i, pair in enumerate(max_pairs):\n",
    "    if i % 2 == 0:\n",
    "        sim_pairs.append(pair)\n",
    "\n",
    "sim_pairs[:10]"
   ]
  },
  {
   "cell_type": "code",
   "execution_count": null,
   "id": "0c807ece",
   "metadata": {},
   "outputs": [],
   "source": []
  }
 ],
 "metadata": {
  "kernelspec": {
   "display_name": "Python 3 (ipykernel)",
   "language": "python",
   "name": "python3"
  },
  "language_info": {
   "codemirror_mode": {
    "name": "ipython",
    "version": 3
   },
   "file_extension": ".py",
   "mimetype": "text/x-python",
   "name": "python",
   "nbconvert_exporter": "python",
   "pygments_lexer": "ipython3",
   "version": "3.9.13"
  }
 },
 "nbformat": 4,
 "nbformat_minor": 5
}
